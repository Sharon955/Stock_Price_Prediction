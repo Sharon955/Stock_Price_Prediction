{
 "cells": [
  {
   "cell_type": "code",
   "execution_count": 1,
   "metadata": {},
   "outputs": [],
   "source": [
    "import pandas as pd\n",
    "import matplotlib.pyplot as plt"
   ]
  },
  {
   "cell_type": "code",
   "execution_count": 2,
   "metadata": {},
   "outputs": [
    {
     "data": {
      "text/html": [
       "<div>\n",
       "<style scoped>\n",
       "    .dataframe tbody tr th:only-of-type {\n",
       "        vertical-align: middle;\n",
       "    }\n",
       "\n",
       "    .dataframe tbody tr th {\n",
       "        vertical-align: top;\n",
       "    }\n",
       "\n",
       "    .dataframe thead th {\n",
       "        text-align: right;\n",
       "    }\n",
       "</style>\n",
       "<table border=\"1\" class=\"dataframe\">\n",
       "  <thead>\n",
       "    <tr style=\"text-align: right;\">\n",
       "      <th></th>\n",
       "      <th>Date</th>\n",
       "      <th>Pre 20190628</th>\n",
       "      <th>Post 20190628</th>\n",
       "    </tr>\n",
       "  </thead>\n",
       "  <tbody>\n",
       "    <tr>\n",
       "      <td>0</td>\n",
       "      <td>1/3/2005</td>\n",
       "      <td>1202.079956</td>\n",
       "      <td>NaN</td>\n",
       "    </tr>\n",
       "    <tr>\n",
       "      <td>1</td>\n",
       "      <td>1/4/2005</td>\n",
       "      <td>1188.050049</td>\n",
       "      <td>NaN</td>\n",
       "    </tr>\n",
       "    <tr>\n",
       "      <td>2</td>\n",
       "      <td>1/5/2005</td>\n",
       "      <td>1183.739990</td>\n",
       "      <td>NaN</td>\n",
       "    </tr>\n",
       "    <tr>\n",
       "      <td>3</td>\n",
       "      <td>1/6/2005</td>\n",
       "      <td>1187.890015</td>\n",
       "      <td>NaN</td>\n",
       "    </tr>\n",
       "    <tr>\n",
       "      <td>4</td>\n",
       "      <td>1/7/2005</td>\n",
       "      <td>1186.189941</td>\n",
       "      <td>NaN</td>\n",
       "    </tr>\n",
       "    <tr>\n",
       "      <td>...</td>\n",
       "      <td>...</td>\n",
       "      <td>...</td>\n",
       "      <td>...</td>\n",
       "    </tr>\n",
       "    <tr>\n",
       "      <td>3907</td>\n",
       "      <td>7/13/2020</td>\n",
       "      <td>NaN</td>\n",
       "      <td>3155.219971</td>\n",
       "    </tr>\n",
       "    <tr>\n",
       "      <td>3908</td>\n",
       "      <td>7/14/2020</td>\n",
       "      <td>NaN</td>\n",
       "      <td>3197.520020</td>\n",
       "    </tr>\n",
       "    <tr>\n",
       "      <td>3909</td>\n",
       "      <td>7/15/2020</td>\n",
       "      <td>NaN</td>\n",
       "      <td>3226.560059</td>\n",
       "    </tr>\n",
       "    <tr>\n",
       "      <td>3910</td>\n",
       "      <td>7/16/2020</td>\n",
       "      <td>NaN</td>\n",
       "      <td>3215.570068</td>\n",
       "    </tr>\n",
       "    <tr>\n",
       "      <td>3911</td>\n",
       "      <td>7/17/2020</td>\n",
       "      <td>NaN</td>\n",
       "      <td>3224.729980</td>\n",
       "    </tr>\n",
       "  </tbody>\n",
       "</table>\n",
       "<p>3912 rows × 3 columns</p>\n",
       "</div>"
      ],
      "text/plain": [
       "           Date  Pre 20190628  Post 20190628\n",
       "0      1/3/2005   1202.079956            NaN\n",
       "1      1/4/2005   1188.050049            NaN\n",
       "2      1/5/2005   1183.739990            NaN\n",
       "3      1/6/2005   1187.890015            NaN\n",
       "4      1/7/2005   1186.189941            NaN\n",
       "...         ...           ...            ...\n",
       "3907  7/13/2020           NaN    3155.219971\n",
       "3908  7/14/2020           NaN    3197.520020\n",
       "3909  7/15/2020           NaN    3226.560059\n",
       "3910  7/16/2020           NaN    3215.570068\n",
       "3911  7/17/2020           NaN    3224.729980\n",
       "\n",
       "[3912 rows x 3 columns]"
      ]
     },
     "execution_count": 2,
     "metadata": {},
     "output_type": "execute_result"
    }
   ],
   "source": [
    "price_raw = pd.read_csv('SP Index Price_till mid 2020.csv')\n",
    "price_raw"
   ]
  },
  {
   "cell_type": "code",
   "execution_count": 6,
   "metadata": {},
   "outputs": [
    {
     "data": {
      "text/plain": [
       "[<matplotlib.lines.Line2D at 0x2a4dc20b648>]"
      ]
     },
     "execution_count": 6,
     "metadata": {},
     "output_type": "execute_result"
    },
    {
     "data": {
      "image/png": "[encoded data removed]",
      "text/plain": [
       "<Figure size 432x288 with 1 Axes>"
      ]
     },
     "metadata": {
      "needs_background": "light"
     },
     "output_type": "display_data"
    }
   ],
   "source": [
    "plt.plot(price_raw['Date'], price_raw['Pre 20190628'],'o', color = 'black')"
   ]
  },
  {
   "cell_type": "code",
   "execution_count": null,
   "metadata": {},
   "outputs": [],
   "source": []
  }
 ],
 "metadata": {
  "kernelspec": {
   "display_name": "Python 3",
   "language": "python",
   "name": "python3"
  },
  "language_info": {
   "codemirror_mode": {
    "name": "ipython",
    "version": 3
   },
   "file_extension": ".py",
   "mimetype": "text/x-python",
   "name": "python",
   "nbconvert_exporter": "python",
   "pygments_lexer": "ipython3",
   "version": "3.7.4"
  }
 },
 "nbformat": 4,
 "nbformat_minor": 2
}
