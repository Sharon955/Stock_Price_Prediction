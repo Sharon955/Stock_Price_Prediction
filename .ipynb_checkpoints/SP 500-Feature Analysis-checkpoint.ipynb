{
 "cells": [
  {
   "cell_type": "code",
   "execution_count": 2,
   "metadata": {},
   "outputs": [],
   "source": [
    "#Reference: https://towardsdatascience.com/feature-importance-with-neural-network-346eb6205743"
   ]
  },
  {
   "cell_type": "code",
   "execution_count": 3,
   "metadata": {},
   "outputs": [],
   "source": [
    "import pandas as pd\n",
    "#from sqlalchemy import create_engine\n",
    "import matplotlib.pyplot as plt\n",
    "import numpy as np"
   ]
  },
  {
   "cell_type": "code",
   "execution_count": 4,
   "metadata": {
    "scrolled": true
   },
   "outputs": [
    {
     "data": {
      "text/html": [
       "<div>\n",
       "<style scoped>\n",
       "    .dataframe tbody tr th:only-of-type {\n",
       "        vertical-align: middle;\n",
       "    }\n",
       "\n",
       "    .dataframe tbody tr th {\n",
       "        vertical-align: top;\n",
       "    }\n",
       "\n",
       "    .dataframe thead th {\n",
       "        text-align: right;\n",
       "    }\n",
       "</style>\n",
       "<table border=\"1\" class=\"dataframe\">\n",
       "  <thead>\n",
       "    <tr style=\"text-align: right;\">\n",
       "      <th></th>\n",
       "      <th>ticker</th>\n",
       "      <th>company_name</th>\n",
       "      <th>Date</th>\n",
       "      <th>Currency</th>\n",
       "      <th>Closing Price</th>\n",
       "      <th>Market Value</th>\n",
       "      <th>Sales</th>\n",
       "      <th>Operating Expenses</th>\n",
       "      <th>Operating Income</th>\n",
       "      <th>EBIT</th>\n",
       "      <th>Pretax Income</th>\n",
       "      <th>Income Tax</th>\n",
       "      <th>Net Income</th>\n",
       "      <th>Operating Margin</th>\n",
       "      <th>Gross Margin</th>\n",
       "      <th>EPS</th>\n",
       "    </tr>\n",
       "  </thead>\n",
       "  <tbody>\n",
       "    <tr>\n",
       "      <td>0</td>\n",
       "      <td>A-US</td>\n",
       "      <td>Agilent Technologies, Inc.</td>\n",
       "      <td>1/31/2005</td>\n",
       "      <td>USD</td>\n",
       "      <td>22.11</td>\n",
       "      <td>10856.0</td>\n",
       "      <td>1658.0</td>\n",
       "      <td>1556.0</td>\n",
       "      <td>102.0</td>\n",
       "      <td>102.0</td>\n",
       "      <td>124.0</td>\n",
       "      <td>21.0</td>\n",
       "      <td>103.0</td>\n",
       "      <td>6.15</td>\n",
       "      <td>45.48</td>\n",
       "      <td>0.2100</td>\n",
       "    </tr>\n",
       "    <tr>\n",
       "      <td>1</td>\n",
       "      <td>A-US</td>\n",
       "      <td>Agilent Technologies, Inc.</td>\n",
       "      <td>4/30/2005</td>\n",
       "      <td>USD</td>\n",
       "      <td>20.75</td>\n",
       "      <td>10188.3</td>\n",
       "      <td>1688.0</td>\n",
       "      <td>1600.0</td>\n",
       "      <td>88.0</td>\n",
       "      <td>88.0</td>\n",
       "      <td>120.0</td>\n",
       "      <td>25.0</td>\n",
       "      <td>95.0</td>\n",
       "      <td>5.21</td>\n",
       "      <td>46.86</td>\n",
       "      <td>0.1900</td>\n",
       "    </tr>\n",
       "    <tr>\n",
       "      <td>2</td>\n",
       "      <td>A-US</td>\n",
       "      <td>Agilent Technologies, Inc.</td>\n",
       "      <td>7/31/2005</td>\n",
       "      <td>USD</td>\n",
       "      <td>26.24</td>\n",
       "      <td>12962.6</td>\n",
       "      <td>1688.0</td>\n",
       "      <td>1558.0</td>\n",
       "      <td>130.0</td>\n",
       "      <td>130.0</td>\n",
       "      <td>129.0</td>\n",
       "      <td>25.0</td>\n",
       "      <td>104.0</td>\n",
       "      <td>7.70</td>\n",
       "      <td>46.27</td>\n",
       "      <td>0.2100</td>\n",
       "    </tr>\n",
       "    <tr>\n",
       "      <td>4</td>\n",
       "      <td>A-US</td>\n",
       "      <td>Agilent Technologies, Inc.</td>\n",
       "      <td>1/31/2006</td>\n",
       "      <td>USD</td>\n",
       "      <td>33.91</td>\n",
       "      <td>17701.0</td>\n",
       "      <td>1336.0</td>\n",
       "      <td>1252.0</td>\n",
       "      <td>84.0</td>\n",
       "      <td>84.0</td>\n",
       "      <td>93.0</td>\n",
       "      <td>15.0</td>\n",
       "      <td>985.0</td>\n",
       "      <td>6.29</td>\n",
       "      <td>51.57</td>\n",
       "      <td>2.0824</td>\n",
       "    </tr>\n",
       "    <tr>\n",
       "      <td>5</td>\n",
       "      <td>A-US</td>\n",
       "      <td>Agilent Technologies, Inc.</td>\n",
       "      <td>4/30/2006</td>\n",
       "      <td>USD</td>\n",
       "      <td>38.42</td>\n",
       "      <td>16366.9</td>\n",
       "      <td>1431.0</td>\n",
       "      <td>1309.0</td>\n",
       "      <td>122.0</td>\n",
       "      <td>122.0</td>\n",
       "      <td>159.0</td>\n",
       "      <td>28.0</td>\n",
       "      <td>131.0</td>\n",
       "      <td>8.53</td>\n",
       "      <td>51.78</td>\n",
       "      <td>0.3046</td>\n",
       "    </tr>\n",
       "  </tbody>\n",
       "</table>\n",
       "</div>"
      ],
      "text/plain": [
       "  ticker                company_name       Date Currency  Closing Price  \\\n",
       "0   A-US  Agilent Technologies, Inc.  1/31/2005      USD          22.11   \n",
       "1   A-US  Agilent Technologies, Inc.  4/30/2005      USD          20.75   \n",
       "2   A-US  Agilent Technologies, Inc.  7/31/2005      USD          26.24   \n",
       "4   A-US  Agilent Technologies, Inc.  1/31/2006      USD          33.91   \n",
       "5   A-US  Agilent Technologies, Inc.  4/30/2006      USD          38.42   \n",
       "\n",
       "   Market Value   Sales  Operating Expenses  Operating Income   EBIT  \\\n",
       "0       10856.0  1658.0              1556.0             102.0  102.0   \n",
       "1       10188.3  1688.0              1600.0              88.0   88.0   \n",
       "2       12962.6  1688.0              1558.0             130.0  130.0   \n",
       "4       17701.0  1336.0              1252.0              84.0   84.0   \n",
       "5       16366.9  1431.0              1309.0             122.0  122.0   \n",
       "\n",
       "   Pretax Income  Income Tax  Net Income  Operating Margin  Gross Margin  \\\n",
       "0          124.0        21.0       103.0              6.15         45.48   \n",
       "1          120.0        25.0        95.0              5.21         46.86   \n",
       "2          129.0        25.0       104.0              7.70         46.27   \n",
       "4           93.0        15.0       985.0              6.29         51.57   \n",
       "5          159.0        28.0       131.0              8.53         51.78   \n",
       "\n",
       "      EPS  \n",
       "0  0.2100  \n",
       "1  0.1900  \n",
       "2  0.2100  \n",
       "4  2.0824  \n",
       "5  0.3046  "
      ]
     },
     "execution_count": 4,
     "metadata": {},
     "output_type": "execute_result"
    }
   ],
   "source": [
    "A_df = pd.read_csv('SP500.csv', thousands=',')\n",
    "A_df = A_df.rename(columns={'ticker_region': 'ticker','proper_name':'company_name','ff_fiscal_date':'Date','currency':'Currency','ff_price_close_fp':'Closing Price','ff_mkt_val':'Market Value','ff_sales':'Sales','ff_oper_exp_tot':'Operating Expenses','ff_oper_inc':'Operating Income','ff_ebit':'EBIT','ff_ptx_inc':'Pretax Income','ff_inc_tax':'Income Tax','ff_net_income':'Net Income','ff_ebit_oper_mgn':'Operating Margin','ff_gross_mgn':'Gross Margin','ff_eps_basic':'EPS'})\n",
    "A_df = A_df.drop(A_df.columns[[1,14]], axis='columns').dropna(axis=0)\n",
    "A_df.head()"
   ]
  },
  {
   "cell_type": "code",
   "execution_count": 5,
   "metadata": {},
   "outputs": [
    {
     "data": {
      "text/html": [
       "<div>\n",
       "<style scoped>\n",
       "    .dataframe tbody tr th:only-of-type {\n",
       "        vertical-align: middle;\n",
       "    }\n",
       "\n",
       "    .dataframe tbody tr th {\n",
       "        vertical-align: top;\n",
       "    }\n",
       "\n",
       "    .dataframe thead th {\n",
       "        text-align: right;\n",
       "    }\n",
       "</style>\n",
       "<table border=\"1\" class=\"dataframe\">\n",
       "  <thead>\n",
       "    <tr style=\"text-align: right;\">\n",
       "      <th></th>\n",
       "      <th>Market Value</th>\n",
       "      <th>Sales</th>\n",
       "      <th>Operating Income</th>\n",
       "      <th>Net Income</th>\n",
       "      <th>Operating Margin</th>\n",
       "      <th>Gross Margin</th>\n",
       "      <th>EPS</th>\n",
       "    </tr>\n",
       "  </thead>\n",
       "  <tbody>\n",
       "    <tr>\n",
       "      <td>0</td>\n",
       "      <td>10856.0</td>\n",
       "      <td>1658.0</td>\n",
       "      <td>102.0</td>\n",
       "      <td>103.0</td>\n",
       "      <td>6.15</td>\n",
       "      <td>45.48</td>\n",
       "      <td>0.2100</td>\n",
       "    </tr>\n",
       "    <tr>\n",
       "      <td>1</td>\n",
       "      <td>10188.3</td>\n",
       "      <td>1688.0</td>\n",
       "      <td>88.0</td>\n",
       "      <td>95.0</td>\n",
       "      <td>5.21</td>\n",
       "      <td>46.86</td>\n",
       "      <td>0.1900</td>\n",
       "    </tr>\n",
       "    <tr>\n",
       "      <td>2</td>\n",
       "      <td>12962.6</td>\n",
       "      <td>1688.0</td>\n",
       "      <td>130.0</td>\n",
       "      <td>104.0</td>\n",
       "      <td>7.70</td>\n",
       "      <td>46.27</td>\n",
       "      <td>0.2100</td>\n",
       "    </tr>\n",
       "    <tr>\n",
       "      <td>4</td>\n",
       "      <td>17701.0</td>\n",
       "      <td>1336.0</td>\n",
       "      <td>84.0</td>\n",
       "      <td>985.0</td>\n",
       "      <td>6.29</td>\n",
       "      <td>51.57</td>\n",
       "      <td>2.0824</td>\n",
       "    </tr>\n",
       "    <tr>\n",
       "      <td>5</td>\n",
       "      <td>16366.9</td>\n",
       "      <td>1431.0</td>\n",
       "      <td>122.0</td>\n",
       "      <td>131.0</td>\n",
       "      <td>8.53</td>\n",
       "      <td>51.78</td>\n",
       "      <td>0.3046</td>\n",
       "    </tr>\n",
       "    <tr>\n",
       "      <td>...</td>\n",
       "      <td>...</td>\n",
       "      <td>...</td>\n",
       "      <td>...</td>\n",
       "      <td>...</td>\n",
       "      <td>...</td>\n",
       "      <td>...</td>\n",
       "      <td>...</td>\n",
       "    </tr>\n",
       "    <tr>\n",
       "      <td>39380</td>\n",
       "      <td>31104.2</td>\n",
       "      <td>1347.0</td>\n",
       "      <td>465.0</td>\n",
       "      <td>298.0</td>\n",
       "      <td>34.52</td>\n",
       "      <td>66.00</td>\n",
       "      <td>0.6100</td>\n",
       "    </tr>\n",
       "    <tr>\n",
       "      <td>39381</td>\n",
       "      <td>35020.8</td>\n",
       "      <td>1460.0</td>\n",
       "      <td>509.0</td>\n",
       "      <td>81.0</td>\n",
       "      <td>34.86</td>\n",
       "      <td>67.12</td>\n",
       "      <td>0.1700</td>\n",
       "    </tr>\n",
       "    <tr>\n",
       "      <td>39382</td>\n",
       "      <td>40479.3</td>\n",
       "      <td>1366.0</td>\n",
       "      <td>461.0</td>\n",
       "      <td>352.0</td>\n",
       "      <td>33.75</td>\n",
       "      <td>65.59</td>\n",
       "      <td>0.7200</td>\n",
       "    </tr>\n",
       "    <tr>\n",
       "      <td>39383</td>\n",
       "      <td>41086.3</td>\n",
       "      <td>1415.0</td>\n",
       "      <td>484.0</td>\n",
       "      <td>384.0</td>\n",
       "      <td>34.20</td>\n",
       "      <td>66.78</td>\n",
       "      <td>0.7900</td>\n",
       "    </tr>\n",
       "    <tr>\n",
       "      <td>39384</td>\n",
       "      <td>44038.6</td>\n",
       "      <td>1480.0</td>\n",
       "      <td>529.0</td>\n",
       "      <td>347.0</td>\n",
       "      <td>35.74</td>\n",
       "      <td>65.88</td>\n",
       "      <td>0.7199</td>\n",
       "    </tr>\n",
       "  </tbody>\n",
       "</table>\n",
       "<p>33932 rows × 7 columns</p>\n",
       "</div>"
      ],
      "text/plain": [
       "       Market Value   Sales  Operating Income  Net Income  Operating Margin  \\\n",
       "0           10856.0  1658.0             102.0       103.0              6.15   \n",
       "1           10188.3  1688.0              88.0        95.0              5.21   \n",
       "2           12962.6  1688.0             130.0       104.0              7.70   \n",
       "4           17701.0  1336.0              84.0       985.0              6.29   \n",
       "5           16366.9  1431.0             122.0       131.0              8.53   \n",
       "...             ...     ...               ...         ...               ...   \n",
       "39380       31104.2  1347.0             465.0       298.0             34.52   \n",
       "39381       35020.8  1460.0             509.0        81.0             34.86   \n",
       "39382       40479.3  1366.0             461.0       352.0             33.75   \n",
       "39383       41086.3  1415.0             484.0       384.0             34.20   \n",
       "39384       44038.6  1480.0             529.0       347.0             35.74   \n",
       "\n",
       "       Gross Margin     EPS  \n",
       "0             45.48  0.2100  \n",
       "1             46.86  0.1900  \n",
       "2             46.27  0.2100  \n",
       "4             51.57  2.0824  \n",
       "5             51.78  0.3046  \n",
       "...             ...     ...  \n",
       "39380         66.00  0.6100  \n",
       "39381         67.12  0.1700  \n",
       "39382         65.59  0.7200  \n",
       "39383         66.78  0.7900  \n",
       "39384         65.88  0.7199  \n",
       "\n",
       "[33932 rows x 7 columns]"
      ]
     },
     "execution_count": 5,
     "metadata": {},
     "output_type": "execute_result"
    }
   ],
   "source": [
    "feature_raw = A_df.drop(A_df.columns[[0,1,2,3,4,7,9,10,11]], axis = 'columns')\n",
    "feature_raw"
   ]
  },
  {
   "cell_type": "code",
   "execution_count": null,
   "metadata": {},
   "outputs": [],
   "source": []
  },
  {
   "cell_type": "markdown",
   "metadata": {},
   "source": [
    "## MultiLinear Regression Test"
   ]
  },
  {
   "cell_type": "code",
   "execution_count": 6,
   "metadata": {},
   "outputs": [
    {
     "data": {
      "text/plain": [
       "['Market Value',\n",
       " 'Sales',\n",
       " 'Operating Income',\n",
       " 'Net Income',\n",
       " 'Operating Margin',\n",
       " 'Gross Margin',\n",
       " 'EPS']"
      ]
     },
     "execution_count": 6,
     "metadata": {},
     "output_type": "execute_result"
    }
   ],
   "source": [
    "list(feature_raw.columns)"
   ]
  },
  {
   "cell_type": "code",
   "execution_count": 7,
   "metadata": {
    "scrolled": false
   },
   "outputs": [
    {
     "data": {
      "image/png": "[encoded data removed]",
      "text/plain": [
       "<Figure size 1080x720 with 6 Axes>"
      ]
     },
     "metadata": {
      "needs_background": "light"
     },
     "output_type": "display_data"
    }
   ],
   "source": [
    "import matplotlib\n",
    "factor_list = list(feature_raw.columns)\n",
    "fig = plt.figure(figsize=(15,10))\n",
    "fig.subplots_adjust(hspace=0.3, wspace=0.3)\n",
    "for i in range(1,7):\n",
    "    ax = fig.add_subplot(2, 3, i)\n",
    "    ax.scatter(feature_raw.iloc[:, i], feature_raw['Market Value'])\n",
    "    ax.set_title(\"Market Value vs \" + factor_list[i])\n",
    "    \n",
    "    ax.get_yaxis().set_major_formatter(\n",
    "    matplotlib.ticker.FuncFormatter(lambda x, p: format(int(x), ',')))\n",
    "    \n",
    "#not feasible for a multilinear regression\n",
    "    "
   ]
  },
  {
   "cell_type": "code",
   "execution_count": null,
   "metadata": {},
   "outputs": [],
   "source": []
  },
  {
   "cell_type": "markdown",
   "metadata": {},
   "source": [
    "## Correlation Matrix"
   ]
  },
  {
   "cell_type": "code",
   "execution_count": 8,
   "metadata": {},
   "outputs": [
    {
     "data": {
      "text/html": [
       "<div>\n",
       "<style scoped>\n",
       "    .dataframe tbody tr th:only-of-type {\n",
       "        vertical-align: middle;\n",
       "    }\n",
       "\n",
       "    .dataframe tbody tr th {\n",
       "        vertical-align: top;\n",
       "    }\n",
       "\n",
       "    .dataframe thead th {\n",
       "        text-align: right;\n",
       "    }\n",
       "</style>\n",
       "<table border=\"1\" class=\"dataframe\">\n",
       "  <thead>\n",
       "    <tr style=\"text-align: right;\">\n",
       "      <th></th>\n",
       "      <th>Market Value</th>\n",
       "      <th>Sales</th>\n",
       "      <th>Operating Income</th>\n",
       "      <th>Net Income</th>\n",
       "      <th>Operating Margin</th>\n",
       "      <th>Gross Margin</th>\n",
       "      <th>EPS</th>\n",
       "    </tr>\n",
       "  </thead>\n",
       "  <tbody>\n",
       "    <tr>\n",
       "      <td>Market Value</td>\n",
       "      <td>1.000000</td>\n",
       "      <td>0.642475</td>\n",
       "      <td>0.811880</td>\n",
       "      <td>0.602530</td>\n",
       "      <td>0.095047</td>\n",
       "      <td>0.105569</td>\n",
       "      <td>0.027029</td>\n",
       "    </tr>\n",
       "    <tr>\n",
       "      <td>Sales</td>\n",
       "      <td>0.642475</td>\n",
       "      <td>1.000000</td>\n",
       "      <td>0.702684</td>\n",
       "      <td>0.484734</td>\n",
       "      <td>-0.028683</td>\n",
       "      <td>-0.149906</td>\n",
       "      <td>0.016523</td>\n",
       "    </tr>\n",
       "    <tr>\n",
       "      <td>Operating Income</td>\n",
       "      <td>0.811880</td>\n",
       "      <td>0.702684</td>\n",
       "      <td>1.000000</td>\n",
       "      <td>0.745142</td>\n",
       "      <td>0.165895</td>\n",
       "      <td>0.098212</td>\n",
       "      <td>0.032989</td>\n",
       "    </tr>\n",
       "    <tr>\n",
       "      <td>Net Income</td>\n",
       "      <td>0.602530</td>\n",
       "      <td>0.484734</td>\n",
       "      <td>0.745142</td>\n",
       "      <td>1.000000</td>\n",
       "      <td>0.128409</td>\n",
       "      <td>0.090741</td>\n",
       "      <td>0.083742</td>\n",
       "    </tr>\n",
       "    <tr>\n",
       "      <td>Operating Margin</td>\n",
       "      <td>0.095047</td>\n",
       "      <td>-0.028683</td>\n",
       "      <td>0.165895</td>\n",
       "      <td>0.128409</td>\n",
       "      <td>1.000000</td>\n",
       "      <td>0.425210</td>\n",
       "      <td>0.047349</td>\n",
       "    </tr>\n",
       "    <tr>\n",
       "      <td>Gross Margin</td>\n",
       "      <td>0.105569</td>\n",
       "      <td>-0.149906</td>\n",
       "      <td>0.098212</td>\n",
       "      <td>0.090741</td>\n",
       "      <td>0.425210</td>\n",
       "      <td>1.000000</td>\n",
       "      <td>0.029365</td>\n",
       "    </tr>\n",
       "    <tr>\n",
       "      <td>EPS</td>\n",
       "      <td>0.027029</td>\n",
       "      <td>0.016523</td>\n",
       "      <td>0.032989</td>\n",
       "      <td>0.083742</td>\n",
       "      <td>0.047349</td>\n",
       "      <td>0.029365</td>\n",
       "      <td>1.000000</td>\n",
       "    </tr>\n",
       "  </tbody>\n",
       "</table>\n",
       "</div>"
      ],
      "text/plain": [
       "                  Market Value     Sales  Operating Income  Net Income  \\\n",
       "Market Value          1.000000  0.642475          0.811880    0.602530   \n",
       "Sales                 0.642475  1.000000          0.702684    0.484734   \n",
       "Operating Income      0.811880  0.702684          1.000000    0.745142   \n",
       "Net Income            0.602530  0.484734          0.745142    1.000000   \n",
       "Operating Margin      0.095047 -0.028683          0.165895    0.128409   \n",
       "Gross Margin          0.105569 -0.149906          0.098212    0.090741   \n",
       "EPS                   0.027029  0.016523          0.032989    0.083742   \n",
       "\n",
       "                  Operating Margin  Gross Margin       EPS  \n",
       "Market Value              0.095047      0.105569  0.027029  \n",
       "Sales                    -0.028683     -0.149906  0.016523  \n",
       "Operating Income          0.165895      0.098212  0.032989  \n",
       "Net Income                0.128409      0.090741  0.083742  \n",
       "Operating Margin          1.000000      0.425210  0.047349  \n",
       "Gross Margin              0.425210      1.000000  0.029365  \n",
       "EPS                       0.047349      0.029365  1.000000  "
      ]
     },
     "execution_count": 8,
     "metadata": {},
     "output_type": "execute_result"
    }
   ],
   "source": [
    "feature_raw.corr(method='pearson')"
   ]
  },
  {
   "cell_type": "code",
   "execution_count": 34,
   "metadata": {},
   "outputs": [
    {
     "data": {
      "image/png": "[encoded data removed]",
      "text/plain": [
       "<Figure size 432x288 with 2 Axes>"
      ]
     },
     "metadata": {
      "needs_background": "light"
     },
     "output_type": "display_data"
    }
   ],
   "source": [
    "import seaborn as sns\n",
    "#corr = feature_raw.corr()\n",
    "ax = sns.heatmap(\n",
    "    feature_raw.corr(), \n",
    "    #vmin=-1, vmax=1, center=0,\n",
    "    #cmap=sns.diverging_palette(20, 220, n=200),\n",
    "    #square=True,\n",
    "    annot=True\n",
    ")\n",
    "ax.set_xticklabels(\n",
    "    ax.get_xticklabels(),\n",
    "    rotation=45,\n",
    "    horizontalalignment='right'\n",
    ");"
   ]
  },
  {
   "cell_type": "code",
   "execution_count": 10,
   "metadata": {},
   "outputs": [],
   "source": [
    "# Conclusion - Correlation with Market Value: Operating Income (>0.8) > Sales (>0.6) > Net Income (>0.6)"
   ]
  },
  {
   "cell_type": "markdown",
   "metadata": {},
   "source": [
    "## Gradient Boosting Feature Importance"
   ]
  },
  {
   "cell_type": "code",
   "execution_count": 11,
   "metadata": {},
   "outputs": [
    {
     "data": {
      "text/html": [
       "<div>\n",
       "<style scoped>\n",
       "    .dataframe tbody tr th:only-of-type {\n",
       "        vertical-align: middle;\n",
       "    }\n",
       "\n",
       "    .dataframe tbody tr th {\n",
       "        vertical-align: top;\n",
       "    }\n",
       "\n",
       "    .dataframe thead th {\n",
       "        text-align: right;\n",
       "    }\n",
       "</style>\n",
       "<table border=\"1\" class=\"dataframe\">\n",
       "  <thead>\n",
       "    <tr style=\"text-align: right;\">\n",
       "      <th></th>\n",
       "      <th>Sales</th>\n",
       "      <th>Operating Income</th>\n",
       "      <th>Net Income</th>\n",
       "      <th>Operating Margin</th>\n",
       "      <th>Gross Margin</th>\n",
       "      <th>EPS</th>\n",
       "    </tr>\n",
       "  </thead>\n",
       "  <tbody>\n",
       "    <tr>\n",
       "      <td>0</td>\n",
       "      <td>1658.0</td>\n",
       "      <td>102.0</td>\n",
       "      <td>103.0</td>\n",
       "      <td>6.15</td>\n",
       "      <td>45.48</td>\n",
       "      <td>0.2100</td>\n",
       "    </tr>\n",
       "    <tr>\n",
       "      <td>1</td>\n",
       "      <td>1688.0</td>\n",
       "      <td>88.0</td>\n",
       "      <td>95.0</td>\n",
       "      <td>5.21</td>\n",
       "      <td>46.86</td>\n",
       "      <td>0.1900</td>\n",
       "    </tr>\n",
       "    <tr>\n",
       "      <td>2</td>\n",
       "      <td>1688.0</td>\n",
       "      <td>130.0</td>\n",
       "      <td>104.0</td>\n",
       "      <td>7.70</td>\n",
       "      <td>46.27</td>\n",
       "      <td>0.2100</td>\n",
       "    </tr>\n",
       "    <tr>\n",
       "      <td>4</td>\n",
       "      <td>1336.0</td>\n",
       "      <td>84.0</td>\n",
       "      <td>985.0</td>\n",
       "      <td>6.29</td>\n",
       "      <td>51.57</td>\n",
       "      <td>2.0824</td>\n",
       "    </tr>\n",
       "    <tr>\n",
       "      <td>5</td>\n",
       "      <td>1431.0</td>\n",
       "      <td>122.0</td>\n",
       "      <td>131.0</td>\n",
       "      <td>8.53</td>\n",
       "      <td>51.78</td>\n",
       "      <td>0.3046</td>\n",
       "    </tr>\n",
       "    <tr>\n",
       "      <td>...</td>\n",
       "      <td>...</td>\n",
       "      <td>...</td>\n",
       "      <td>...</td>\n",
       "      <td>...</td>\n",
       "      <td>...</td>\n",
       "      <td>...</td>\n",
       "    </tr>\n",
       "    <tr>\n",
       "      <td>39380</td>\n",
       "      <td>1347.0</td>\n",
       "      <td>465.0</td>\n",
       "      <td>298.0</td>\n",
       "      <td>34.52</td>\n",
       "      <td>66.00</td>\n",
       "      <td>0.6100</td>\n",
       "    </tr>\n",
       "    <tr>\n",
       "      <td>39381</td>\n",
       "      <td>1460.0</td>\n",
       "      <td>509.0</td>\n",
       "      <td>81.0</td>\n",
       "      <td>34.86</td>\n",
       "      <td>67.12</td>\n",
       "      <td>0.1700</td>\n",
       "    </tr>\n",
       "    <tr>\n",
       "      <td>39382</td>\n",
       "      <td>1366.0</td>\n",
       "      <td>461.0</td>\n",
       "      <td>352.0</td>\n",
       "      <td>33.75</td>\n",
       "      <td>65.59</td>\n",
       "      <td>0.7200</td>\n",
       "    </tr>\n",
       "    <tr>\n",
       "      <td>39383</td>\n",
       "      <td>1415.0</td>\n",
       "      <td>484.0</td>\n",
       "      <td>384.0</td>\n",
       "      <td>34.20</td>\n",
       "      <td>66.78</td>\n",
       "      <td>0.7900</td>\n",
       "    </tr>\n",
       "    <tr>\n",
       "      <td>39384</td>\n",
       "      <td>1480.0</td>\n",
       "      <td>529.0</td>\n",
       "      <td>347.0</td>\n",
       "      <td>35.74</td>\n",
       "      <td>65.88</td>\n",
       "      <td>0.7199</td>\n",
       "    </tr>\n",
       "  </tbody>\n",
       "</table>\n",
       "<p>33932 rows × 6 columns</p>\n",
       "</div>"
      ],
      "text/plain": [
       "        Sales  Operating Income  Net Income  Operating Margin  Gross Margin  \\\n",
       "0      1658.0             102.0       103.0              6.15         45.48   \n",
       "1      1688.0              88.0        95.0              5.21         46.86   \n",
       "2      1688.0             130.0       104.0              7.70         46.27   \n",
       "4      1336.0              84.0       985.0              6.29         51.57   \n",
       "5      1431.0             122.0       131.0              8.53         51.78   \n",
       "...       ...               ...         ...               ...           ...   \n",
       "39380  1347.0             465.0       298.0             34.52         66.00   \n",
       "39381  1460.0             509.0        81.0             34.86         67.12   \n",
       "39382  1366.0             461.0       352.0             33.75         65.59   \n",
       "39383  1415.0             484.0       384.0             34.20         66.78   \n",
       "39384  1480.0             529.0       347.0             35.74         65.88   \n",
       "\n",
       "          EPS  \n",
       "0      0.2100  \n",
       "1      0.1900  \n",
       "2      0.2100  \n",
       "4      2.0824  \n",
       "5      0.3046  \n",
       "...       ...  \n",
       "39380  0.6100  \n",
       "39381  0.1700  \n",
       "39382  0.7200  \n",
       "39383  0.7900  \n",
       "39384  0.7199  \n",
       "\n",
       "[33932 rows x 6 columns]"
      ]
     },
     "execution_count": 11,
     "metadata": {},
     "output_type": "execute_result"
    }
   ],
   "source": [
    "X = feature_raw.drop(feature_raw.columns[[0]], axis = 'columns')\n",
    "X"
   ]
  },
  {
   "cell_type": "code",
   "execution_count": 12,
   "metadata": {},
   "outputs": [
    {
     "data": {
      "text/plain": [
       "0    10856.0\n",
       "1    10188.3\n",
       "2    12962.6\n",
       "4    17701.0\n",
       "5    16366.9\n",
       "Name: Market Value, dtype: float64"
      ]
     },
     "execution_count": 12,
     "metadata": {},
     "output_type": "execute_result"
    }
   ],
   "source": [
    "y = feature_raw['Market Value']\n",
    "y.head()"
   ]
  },
  {
   "cell_type": "code",
   "execution_count": 13,
   "metadata": {},
   "outputs": [],
   "source": [
    "from sklearn.model_selection import train_test_split\n",
    "\n",
    "X_train, X_test, y_train, y_test = train_test_split(X, y, random_state=1)"
   ]
  },
  {
   "cell_type": "code",
   "execution_count": 14,
   "metadata": {
    "scrolled": false
   },
   "outputs": [
    {
     "data": {
      "text/plain": [
       "([<matplotlib.axis.XTick at 0x1dfc15fc2c8>,\n",
       "  <matplotlib.axis.XTick at 0x1dfc514f648>,\n",
       "  <matplotlib.axis.XTick at 0x1dfc514f1c8>,\n",
       "  <matplotlib.axis.XTick at 0x1dfc518d248>,\n",
       "  <matplotlib.axis.XTick at 0x1dfc518d7c8>,\n",
       "  <matplotlib.axis.XTick at 0x1dfc51930c8>],\n",
       " <a list of 6 Text xticklabel objects>)"
      ]
     },
     "execution_count": 14,
     "metadata": {},
     "output_type": "execute_result"
    },
    {
     "data": {
      "image/png": "[encoded data removed]",
      "text/plain": [
       "<Figure size 720x360 with 1 Axes>"
      ]
     },
     "metadata": {
      "needs_background": "light"
     },
     "output_type": "display_data"
    }
   ],
   "source": [
    "from sklearn.ensemble import GradientBoostingRegressor\n",
    "gb = GradientBoostingRegressor(n_estimators=100)\n",
    "gb.fit(X_train, y_train)\n",
    "plt.figure(figsize=(10,5))\n",
    "plt.bar(range(X_train.shape[1]), gb.feature_importances_)\n",
    "plt.xticks(range(X_train.shape[1]), ['Sales','Operating Income','Net Income','Operating Margin','Gross Margin','EPS'])"
   ]
  },
  {
   "cell_type": "code",
   "execution_count": 15,
   "metadata": {},
   "outputs": [],
   "source": [
    "#Conclusion - The higher the value, the high its impact on Stock Price Prediction: Operating Income > Net Income\n",
    "#Operating Margin; which is different from the correlation matrix, so high correlation doesn't necessarily mean there is a high\n",
    "#prediction power"
   ]
  },
  {
   "cell_type": "code",
   "execution_count": 16,
   "metadata": {},
   "outputs": [
    {
     "name": "stdout",
     "output_type": "stream",
     "text": [
      "Training Data Score: 0.9032097631975128\n",
      "Testing Data Score: 0.8522099436072683\n"
     ]
    }
   ],
   "source": [
    "print(f\"Training Data Score: {gb.score(X_train, y_train)}\")\n",
    "print(f\"Testing Data Score: {gb.score(X_test, y_test)}\")"
   ]
  },
  {
   "cell_type": "markdown",
   "metadata": {},
   "source": [
    "## Causation Relationships"
   ]
  },
  {
   "cell_type": "code",
   "execution_count": 17,
   "metadata": {},
   "outputs": [],
   "source": [
    "#In order to prove causation, what we have to do now is to demonstrate that the data shuffle provides significative evidence \n",
    "#in performance variation.We operate on the final predictions, achieved without and with shuffle, and verify if there is a \n",
    "#difference in mean among the two prediction population."
   ]
  },
  {
   "cell_type": "code",
   "execution_count": 18,
   "metadata": {},
   "outputs": [
    {
     "data": {
      "text/plain": [
       "33932"
      ]
     },
     "execution_count": 18,
     "metadata": {},
     "output_type": "execute_result"
    }
   ],
   "source": [
    "pred_y = gb.predict(X) #get prediction of all X (train + test)\n",
    "np.count_nonzero(pred_y)"
   ]
  },
  {
   "cell_type": "code",
   "execution_count": 19,
   "metadata": {},
   "outputs": [],
   "source": [
    "shuff_pred = []"
   ]
  },
  {
   "cell_type": "code",
   "execution_count": 20,
   "metadata": {},
   "outputs": [
    {
     "data": {
      "text/html": [
       "<div>\n",
       "<style scoped>\n",
       "    .dataframe tbody tr th:only-of-type {\n",
       "        vertical-align: middle;\n",
       "    }\n",
       "\n",
       "    .dataframe tbody tr th {\n",
       "        vertical-align: top;\n",
       "    }\n",
       "\n",
       "    .dataframe thead th {\n",
       "        text-align: right;\n",
       "    }\n",
       "</style>\n",
       "<table border=\"1\" class=\"dataframe\">\n",
       "  <thead>\n",
       "    <tr style=\"text-align: right;\">\n",
       "      <th></th>\n",
       "      <th>Sales</th>\n",
       "      <th>Operating Income</th>\n",
       "      <th>Net Income</th>\n",
       "      <th>Operating Margin</th>\n",
       "      <th>Gross Margin</th>\n",
       "      <th>EPS</th>\n",
       "    </tr>\n",
       "  </thead>\n",
       "  <tbody>\n",
       "    <tr>\n",
       "      <td>0</td>\n",
       "      <td>632.100</td>\n",
       "      <td>102.0</td>\n",
       "      <td>103.0</td>\n",
       "      <td>6.15</td>\n",
       "      <td>45.48</td>\n",
       "      <td>0.2100</td>\n",
       "    </tr>\n",
       "    <tr>\n",
       "      <td>1</td>\n",
       "      <td>5230.000</td>\n",
       "      <td>88.0</td>\n",
       "      <td>95.0</td>\n",
       "      <td>5.21</td>\n",
       "      <td>46.86</td>\n",
       "      <td>0.1900</td>\n",
       "    </tr>\n",
       "    <tr>\n",
       "      <td>2</td>\n",
       "      <td>522.185</td>\n",
       "      <td>130.0</td>\n",
       "      <td>104.0</td>\n",
       "      <td>7.70</td>\n",
       "      <td>46.27</td>\n",
       "      <td>0.2100</td>\n",
       "    </tr>\n",
       "    <tr>\n",
       "      <td>4</td>\n",
       "      <td>11328.000</td>\n",
       "      <td>84.0</td>\n",
       "      <td>985.0</td>\n",
       "      <td>6.29</td>\n",
       "      <td>51.57</td>\n",
       "      <td>2.0824</td>\n",
       "    </tr>\n",
       "    <tr>\n",
       "      <td>5</td>\n",
       "      <td>503.100</td>\n",
       "      <td>122.0</td>\n",
       "      <td>131.0</td>\n",
       "      <td>8.53</td>\n",
       "      <td>51.78</td>\n",
       "      <td>0.3046</td>\n",
       "    </tr>\n",
       "  </tbody>\n",
       "</table>\n",
       "</div>"
      ],
      "text/plain": [
       "       Sales  Operating Income  Net Income  Operating Margin  Gross Margin  \\\n",
       "0    632.100             102.0       103.0              6.15         45.48   \n",
       "1   5230.000              88.0        95.0              5.21         46.86   \n",
       "2    522.185             130.0       104.0              7.70         46.27   \n",
       "4  11328.000              84.0       985.0              6.29         51.57   \n",
       "5    503.100             122.0       131.0              8.53         51.78   \n",
       "\n",
       "      EPS  \n",
       "0  0.2100  \n",
       "1  0.1900  \n",
       "2  0.2100  \n",
       "4  2.0824  \n",
       "5  0.3046  "
      ]
     },
     "execution_count": 20,
     "metadata": {},
     "output_type": "execute_result"
    }
   ],
   "source": [
    "X_copy_sales = X.copy()\n",
    "X_copy_sales['Sales'] = np.random.permutation(X_copy_sales['Sales'].values)\n",
    "#X_copy_sales.head()\n",
    "pred_y_shuff_sales = gb.predict(X_copy_sales)\n",
    "pred_y_shuff_sales\n",
    "shuff_pred.append(pred_y_shuff_sales)\n",
    "X_copy_sales.head()"
   ]
  },
  {
   "cell_type": "code",
   "execution_count": 18,
   "metadata": {},
   "outputs": [],
   "source": [
    "X_copy_op_income = X.copy()\n",
    "X_copy_op_income['Operating Income'] = np.random.permutation(X_copy_op_income['Operating Income'].values)\n",
    "#X_copy_op_income.head()\n",
    "pred_y_shuff_op_income = gb.predict(X_copy_op_income)\n",
    "pred_y_shuff_op_income\n",
    "shuff_pred.append(pred_y_shuff_op_income)"
   ]
  },
  {
   "cell_type": "code",
   "execution_count": 19,
   "metadata": {},
   "outputs": [],
   "source": [
    "X_copy_net_income = X.copy()\n",
    "X_copy_net_income['Net Income'] = np.random.permutation(X_copy_net_income['Net Income'].values)\n",
    "#X_copy_net_income.head()\n",
    "pred_y_shuff_net_income = gb.predict(X_copy_net_income)\n",
    "pred_y_shuff_net_income\n",
    "shuff_pred.append(pred_y_shuff_net_income)"
   ]
  },
  {
   "cell_type": "code",
   "execution_count": 20,
   "metadata": {},
   "outputs": [],
   "source": [
    "X_copy_op_margin = X.copy()\n",
    "X_copy_op_margin['Operating Margin'] = np.random.permutation(X_copy_op_margin['Operating Margin'].values)\n",
    "#X_copy_op_margin.head()\n",
    "pred_y_shuff_op_margin = gb.predict(X_copy_op_margin)\n",
    "pred_y_shuff_op_margin\n",
    "shuff_pred.append(pred_y_shuff_op_margin)"
   ]
  },
  {
   "cell_type": "code",
   "execution_count": 21,
   "metadata": {},
   "outputs": [],
   "source": [
    "X_copy_gross_margin = X.copy()\n",
    "X_copy_gross_margin['Gross Margin'] = np.random.permutation(X_copy_gross_margin['Gross Margin'].values)\n",
    "#X_copy_gross_margin.head()\n",
    "pred_y_shuff_gross_margin = gb.predict(X_copy_gross_margin)\n",
    "pred_y_shuff_gross_margin\n",
    "shuff_pred.append(pred_y_shuff_gross_margin)\n"
   ]
  },
  {
   "cell_type": "code",
   "execution_count": 22,
   "metadata": {},
   "outputs": [],
   "source": [
    "X_copy_eps = X.copy()\n",
    "X_copy_eps['EPS'] = np.random.permutation(X_copy_eps['EPS'].values)\n",
    "#X_copy_eps.head()\n",
    "pred_y_shuff_eps = gb.predict(X_copy_eps)\n",
    "pred_y_shuff_eps\n",
    "shuff_pred.append(pred_y_shuff_eps)"
   ]
  },
  {
   "cell_type": "code",
   "execution_count": 23,
   "metadata": {},
   "outputs": [
    {
     "data": {
      "text/plain": [
       "[array([ 7108.52868726,  8496.35750396, 24036.66492037, ...,\n",
       "        22342.50766188, 25734.20967597, 27332.5869888 ]),\n",
       " array([ 9176.90037665,  8695.74462515, 10431.64357755, ...,\n",
       "        45148.85308811, 20316.13346631, 13420.10021685]),\n",
       " array([28275.1676327 , 13204.61753325, 60462.87326258, ...,\n",
       "        19124.47948277, 23952.52035936, 18745.42425036]),\n",
       " array([ 9176.90037665,  8695.74462515,  9983.20303795, ...,\n",
       "        23395.88128265, 26372.27143585, 23952.52035936]),\n",
       " array([ 7128.65484479,  7929.14788473,  9732.29373864, ...,\n",
       "        18538.35110407, 21930.05311817, 20630.38617748]),\n",
       " array([ 7842.10997098,  7131.78902828,  5682.62351264, ...,\n",
       "        22623.46974853, 27269.7661478 , 25857.09999808])]"
      ]
     },
     "execution_count": 23,
     "metadata": {},
     "output_type": "execute_result"
    }
   ],
   "source": [
    "shuff_pred"
   ]
  },
  {
   "cell_type": "code",
   "execution_count": 24,
   "metadata": {},
   "outputs": [
    {
     "data": {
      "text/plain": [
       "1422.2325285038933"
      ]
     },
     "execution_count": 24,
     "metadata": {},
     "output_type": "execute_result"
    }
   ],
   "source": [
    "np.random.seed(33)\n",
    "id_ = 0 #feature index\n",
    "merge_pred = np.hstack([shuff_pred[id_], pred_y])\n",
    "observed_diff = abs(shuff_pred[id_].mean() - merge_pred.mean())\n",
    "observed_diff"
   ]
  },
  {
   "cell_type": "code",
   "execution_count": null,
   "metadata": {},
   "outputs": [],
   "source": []
  },
  {
   "cell_type": "code",
   "execution_count": null,
   "metadata": {},
   "outputs": [],
   "source": []
  },
  {
   "cell_type": "code",
   "execution_count": null,
   "metadata": {},
   "outputs": [],
   "source": []
  },
  {
   "cell_type": "code",
   "execution_count": null,
   "metadata": {},
   "outputs": [],
   "source": []
  },
  {
   "cell_type": "code",
   "execution_count": 25,
   "metadata": {},
   "outputs": [
    {
     "data": {
      "text/plain": [
       "0.0"
      ]
     },
     "execution_count": 25,
     "metadata": {},
     "output_type": "execute_result"
    }
   ],
   "source": [
    "#np.random.seed(33)\n",
    "id_ = 1 #feature index\n",
    "merge_pred = np.hstack([shuff_pred[id_], pred_y]) #why treat shuff + real preds as population?\n",
    "observed_diff = abs(shuff_pred[id_].mean() - merge_pred.mean())\n",
    "extreme_values = []\n",
    "sample_d = []\n",
    "for _ in range(10000):\n",
    "    sample_mean = np.random.choice(merge_pred,\n",
    "                  size=shuff_pred[id_].shape[0]).mean()\n",
    "    sample_diff = abs(sample_mean - merge_pred.mean())\n",
    "    sample_d.append(sample_diff)\n",
    "    extreme_values.append(sample_diff >= observed_diff)\n",
    "    \n",
    "round(np.sum(extreme_values)/10000,5) #p-value"
   ]
  },
  {
   "cell_type": "code",
   "execution_count": 26,
   "metadata": {},
   "outputs": [
    {
     "name": "stdout",
     "output_type": "stream",
     "text": [
      "0.0\n",
      "0.0\n",
      "0.0\n",
      "0.245\n",
      "0.0001\n",
      "0.197\n"
     ]
    }
   ],
   "source": [
    "for i in range(6):\n",
    "    np.random.seed(33)\n",
    "    id_ = i #feature index\n",
    "    merge_pred = np.hstack([shuff_pred[id_], pred_y]) #why treat shuff + real preds as population?\n",
    "    observed_diff = abs(shuff_pred[id_].mean() - merge_pred.mean())\n",
    "    extreme_values = []\n",
    "    sample_d = []\n",
    "    for _ in range(10000):\n",
    "        sample_mean = np.random.choice(merge_pred,\n",
    "                      size=shuff_pred[id_].shape[0]).mean()\n",
    "        sample_diff = abs(sample_mean - merge_pred.mean())\n",
    "        sample_d.append(sample_diff)\n",
    "        extreme_values.append(sample_diff >= observed_diff)\n",
    "\n",
    "    print(round(np.sum(extreme_values)/10000,5)) #p-value"
   ]
  },
  {
   "cell_type": "code",
   "execution_count": null,
   "metadata": {},
   "outputs": [],
   "source": []
  },
  {
   "cell_type": "code",
   "execution_count": null,
   "metadata": {},
   "outputs": [],
   "source": []
  },
  {
   "cell_type": "code",
   "execution_count": 27,
   "metadata": {},
   "outputs": [
    {
     "name": "stdout",
     "output_type": "stream",
     "text": [
      "Number is: 0.00000000\n",
      "Number is: 0.00000000\n",
      "Number is: 0.00000000\n",
      "Number is: 0.09900062\n",
      "Number is: 0.00000000\n",
      "Number is: 0.06788708\n"
     ]
    }
   ],
   "source": [
    "import scipy.stats as stats\n",
    "for i in range(6):\n",
    "    print('Number is: %.8f' % stats.ttest_ind(shuff_pred[i], pred_y, equal_var=False)[1])"
   ]
  },
  {
   "cell_type": "code",
   "execution_count": null,
   "metadata": {
    "scrolled": true
   },
   "outputs": [],
   "source": []
  },
  {
   "cell_type": "code",
   "execution_count": 28,
   "metadata": {},
   "outputs": [
    {
     "name": "stdout",
     "output_type": "stream",
     "text": [
      "0.0015\n",
      "0.0067\n",
      "0.0018\n",
      "0.2926\n",
      "0.0165\n",
      "0.2521\n"
     ]
    }
   ],
   "source": [
    "for i in range(6):\n",
    "    #np.random.seed(33)\n",
    "    id_ = i #feature index\n",
    "    merge_pred = np.hstack([shuff_pred[id_], pred_y]) #why treat shuff + real preds as population?\n",
    "    observed_diff = abs(shuff_pred[id_].mean() - pred_y.mean())\n",
    "    extreme_values = []\n",
    "    sample_d = []\n",
    "    for _ in range(10000):\n",
    "        sample_mean = np.random.choice(shuff_pred[id_],\n",
    "                      size=10000).mean()\n",
    "        sample_diff = abs(sample_mean - merge_pred.mean())\n",
    "        sample_d.append(sample_diff)\n",
    "        extreme_values.append(sample_diff >= observed_diff)\n",
    "\n",
    "    print(round(np.sum(extreme_values)/10000,5)) #p-value"
   ]
  },
  {
   "cell_type": "code",
   "execution_count": null,
   "metadata": {},
   "outputs": [],
   "source": []
  },
  {
   "cell_type": "code",
   "execution_count": null,
   "metadata": {},
   "outputs": [],
   "source": []
  },
  {
   "cell_type": "code",
   "execution_count": null,
   "metadata": {},
   "outputs": [],
   "source": []
  }
 ],
 "metadata": {
  "kernelspec": {
   "display_name": "Python 3",
   "language": "python",
   "name": "python3"
  },
  "language_info": {
   "codemirror_mode": {
    "name": "ipython",
    "version": 3
   },
   "file_extension": ".py",
   "mimetype": "text/x-python",
   "name": "python",
   "nbconvert_exporter": "python",
   "pygments_lexer": "ipython3",
   "version": "3.7.4"
  }
 },
 "nbformat": 4,
 "nbformat_minor": 4
}
